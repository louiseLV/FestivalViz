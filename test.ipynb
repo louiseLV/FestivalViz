{
 "cells": [
  {
   "cell_type": "code",
   "execution_count": 50,
   "metadata": {},
   "outputs": [],
   "source": [
    "import pandas as pd\n",
    "import seaborn as sns\n",
    "import matplotlib.pyplot as plt\n",
    "import plotly.express as px"
   ]
  },
  {
   "cell_type": "markdown",
   "metadata": {},
   "source": [
    "## Discover and Clean the Data"
   ]
  },
  {
   "cell_type": "code",
   "execution_count": 41,
   "metadata": {},
   "outputs": [],
   "source": [
    "df = pd.read_csv(\"festivals.csv\", delimiter=\";\")"
   ]
  },
  {
   "cell_type": "code",
   "execution_count": 42,
   "metadata": {},
   "outputs": [
    {
     "data": {
      "text/html": [
       "<div>\n",
       "<style scoped>\n",
       "    .dataframe tbody tr th:only-of-type {\n",
       "        vertical-align: middle;\n",
       "    }\n",
       "\n",
       "    .dataframe tbody tr th {\n",
       "        vertical-align: top;\n",
       "    }\n",
       "\n",
       "    .dataframe thead th {\n",
       "        text-align: right;\n",
       "    }\n",
       "</style>\n",
       "<table border=\"1\" class=\"dataframe\">\n",
       "  <thead>\n",
       "    <tr style=\"text-align: right;\">\n",
       "      <th></th>\n",
       "      <th>nom_du_festival</th>\n",
       "      <th>envergure_territoriale</th>\n",
       "      <th>region_principale_de_deroulement</th>\n",
       "      <th>departement_principal_de_deroulement</th>\n",
       "      <th>commune_principale_de_deroulement</th>\n",
       "      <th>code_postal_de_la_commune_principale_de_deroulement</th>\n",
       "      <th>code_insee_commune</th>\n",
       "      <th>code_insee_epci_collage_en_valeur</th>\n",
       "      <th>libelle_epci_collage_en_valeur</th>\n",
       "      <th>numero_de_voie</th>\n",
       "      <th>...</th>\n",
       "      <th>sous_categorie_musique</th>\n",
       "      <th>sous_categorie_musique_cnm</th>\n",
       "      <th>sous_categorie_cinema_et_audiovisuel</th>\n",
       "      <th>sous_categorie_arts_visuels_et_arts_numeriques</th>\n",
       "      <th>sous_categorie_livre_et_litterature</th>\n",
       "      <th>periode_principale_de_deroulement_du_festival</th>\n",
       "      <th>identifiant_agence_a</th>\n",
       "      <th>identifiant</th>\n",
       "      <th>geocodage_xy</th>\n",
       "      <th>identifiant_cnm</th>\n",
       "    </tr>\n",
       "  </thead>\n",
       "  <tbody>\n",
       "    <tr>\n",
       "      <th>0</th>\n",
       "      <td>Illustr'action</td>\n",
       "      <td>Intercommunale</td>\n",
       "      <td>Auvergne-Rhône-Alpes</td>\n",
       "      <td>Ardèche</td>\n",
       "      <td>Alboussière</td>\n",
       "      <td>7440</td>\n",
       "      <td>7007</td>\n",
       "      <td>200041366</td>\n",
       "      <td>CC Rhône Crussol</td>\n",
       "      <td>NaN</td>\n",
       "      <td>...</td>\n",
       "      <td>NaN</td>\n",
       "      <td>NaN</td>\n",
       "      <td>NaN</td>\n",
       "      <td>NaN</td>\n",
       "      <td>NaN</td>\n",
       "      <td>Après-saison (6 septembre - 31 décembre)</td>\n",
       "      <td>NaN</td>\n",
       "      <td>FEST_07007_122</td>\n",
       "      <td>44.9397584607, 4.73413213329</td>\n",
       "      <td>NaN</td>\n",
       "    </tr>\n",
       "    <tr>\n",
       "      <th>1</th>\n",
       "      <td>Festival international de viole de gambe</td>\n",
       "      <td>NaN</td>\n",
       "      <td>Grand Est</td>\n",
       "      <td>Ardennes</td>\n",
       "      <td>Asfeld</td>\n",
       "      <td>8190</td>\n",
       "      <td>8024</td>\n",
       "      <td>200043156</td>\n",
       "      <td>CC du Pays Rethélois</td>\n",
       "      <td>NaN</td>\n",
       "      <td>...</td>\n",
       "      <td>NaN</td>\n",
       "      <td>NaN</td>\n",
       "      <td>NaN</td>\n",
       "      <td>NaN</td>\n",
       "      <td>NaN</td>\n",
       "      <td>Saison (21 juin - 5 septembre)</td>\n",
       "      <td>NaN</td>\n",
       "      <td>FEST_08024_391</td>\n",
       "      <td>49.473325858, 4.12377173054</td>\n",
       "      <td>NaN</td>\n",
       "    </tr>\n",
       "    <tr>\n",
       "      <th>2</th>\n",
       "      <td>Festival des mardis marionnettes</td>\n",
       "      <td>NaN</td>\n",
       "      <td>Provence-Alpes-Côte d'Azur</td>\n",
       "      <td>Alpes-Maritimes</td>\n",
       "      <td>Biot</td>\n",
       "      <td>6403</td>\n",
       "      <td>6018</td>\n",
       "      <td>240600585</td>\n",
       "      <td>CA de Sophia Antipolis</td>\n",
       "      <td>NaN</td>\n",
       "      <td>...</td>\n",
       "      <td>NaN</td>\n",
       "      <td>NaN</td>\n",
       "      <td>NaN</td>\n",
       "      <td>NaN</td>\n",
       "      <td>NaN</td>\n",
       "      <td>Saison (21 juin - 5 septembre)</td>\n",
       "      <td>NaN</td>\n",
       "      <td>FEST_06018_831</td>\n",
       "      <td>43.6276558141, 7.08318612891</td>\n",
       "      <td>NaN</td>\n",
       "    </tr>\n",
       "    <tr>\n",
       "      <th>3</th>\n",
       "      <td>L'esprit du Piano</td>\n",
       "      <td>NaN</td>\n",
       "      <td>Nouvelle-Aquitaine</td>\n",
       "      <td>Gironde</td>\n",
       "      <td>Bordeaux</td>\n",
       "      <td>33000</td>\n",
       "      <td>33063</td>\n",
       "      <td>243300316</td>\n",
       "      <td>Bordeaux Métropole</td>\n",
       "      <td>NaN</td>\n",
       "      <td>...</td>\n",
       "      <td>Musiques classiques et savantes</td>\n",
       "      <td>11- Musique classique, lyrique, contemporaine,...</td>\n",
       "      <td>NaN</td>\n",
       "      <td>NaN</td>\n",
       "      <td>NaN</td>\n",
       "      <td>Après-saison (6 septembre - 31 décembre)</td>\n",
       "      <td>LA167</td>\n",
       "      <td>FEST_33063_918</td>\n",
       "      <td>44.8572445351, -0.57369678116</td>\n",
       "      <td>3101.0</td>\n",
       "    </tr>\n",
       "    <tr>\n",
       "      <th>4</th>\n",
       "      <td>Biennale en Revermont</td>\n",
       "      <td>NaN</td>\n",
       "      <td>Auvergne-Rhône-Alpes</td>\n",
       "      <td>Ain</td>\n",
       "      <td>Ceyzériat</td>\n",
       "      <td>1250</td>\n",
       "      <td>1072</td>\n",
       "      <td>200071751</td>\n",
       "      <td>CA du Bassin de Bourg-en-Bresse</td>\n",
       "      <td>NaN</td>\n",
       "      <td>...</td>\n",
       "      <td>Musiques diverses</td>\n",
       "      <td>NaN</td>\n",
       "      <td>NaN</td>\n",
       "      <td>NaN</td>\n",
       "      <td>NaN</td>\n",
       "      <td>Avant-saison (1er janvier - 20 juin)</td>\n",
       "      <td>NaN</td>\n",
       "      <td>FEST_01072_1385</td>\n",
       "      <td>46.1832170988, 5.32007207542</td>\n",
       "      <td>NaN</td>\n",
       "    </tr>\n",
       "  </tbody>\n",
       "</table>\n",
       "<p>5 rows × 30 columns</p>\n",
       "</div>"
      ],
      "text/plain": [
       "                            nom_du_festival envergure_territoriale  \\\n",
       "0                            Illustr'action         Intercommunale   \n",
       "1  Festival international de viole de gambe                    NaN   \n",
       "2          Festival des mardis marionnettes                    NaN   \n",
       "3                         L'esprit du Piano                    NaN   \n",
       "4                     Biennale en Revermont                    NaN   \n",
       "\n",
       "  region_principale_de_deroulement departement_principal_de_deroulement  \\\n",
       "0             Auvergne-Rhône-Alpes                              Ardèche   \n",
       "1                        Grand Est                             Ardennes   \n",
       "2       Provence-Alpes-Côte d'Azur                      Alpes-Maritimes   \n",
       "3               Nouvelle-Aquitaine                              Gironde   \n",
       "4             Auvergne-Rhône-Alpes                                  Ain   \n",
       "\n",
       "  commune_principale_de_deroulement  \\\n",
       "0                       Alboussière   \n",
       "1                            Asfeld   \n",
       "2                              Biot   \n",
       "3                          Bordeaux   \n",
       "4                         Ceyzériat   \n",
       "\n",
       "  code_postal_de_la_commune_principale_de_deroulement code_insee_commune  \\\n",
       "0                                               7440                7007   \n",
       "1                                               8190                8024   \n",
       "2                                               6403                6018   \n",
       "3                                              33000               33063   \n",
       "4                                               1250                1072   \n",
       "\n",
       "  code_insee_epci_collage_en_valeur   libelle_epci_collage_en_valeur  \\\n",
       "0                         200041366                 CC Rhône Crussol   \n",
       "1                         200043156             CC du Pays Rethélois   \n",
       "2                         240600585           CA de Sophia Antipolis   \n",
       "3                         243300316               Bordeaux Métropole   \n",
       "4                         200071751  CA du Bassin de Bourg-en-Bresse   \n",
       "\n",
       "  numero_de_voie  ...           sous_categorie_musique  \\\n",
       "0            NaN  ...                              NaN   \n",
       "1            NaN  ...                              NaN   \n",
       "2            NaN  ...                              NaN   \n",
       "3            NaN  ...  Musiques classiques et savantes   \n",
       "4            NaN  ...                Musiques diverses   \n",
       "\n",
       "                          sous_categorie_musique_cnm  \\\n",
       "0                                                NaN   \n",
       "1                                                NaN   \n",
       "2                                                NaN   \n",
       "3  11- Musique classique, lyrique, contemporaine,...   \n",
       "4                                                NaN   \n",
       "\n",
       "  sous_categorie_cinema_et_audiovisuel  \\\n",
       "0                                  NaN   \n",
       "1                                  NaN   \n",
       "2                                  NaN   \n",
       "3                                  NaN   \n",
       "4                                  NaN   \n",
       "\n",
       "  sous_categorie_arts_visuels_et_arts_numeriques  \\\n",
       "0                                            NaN   \n",
       "1                                            NaN   \n",
       "2                                            NaN   \n",
       "3                                            NaN   \n",
       "4                                            NaN   \n",
       "\n",
       "  sous_categorie_livre_et_litterature  \\\n",
       "0                                 NaN   \n",
       "1                                 NaN   \n",
       "2                                 NaN   \n",
       "3                                 NaN   \n",
       "4                                 NaN   \n",
       "\n",
       "  periode_principale_de_deroulement_du_festival identifiant_agence_a  \\\n",
       "0      Après-saison (6 septembre - 31 décembre)                  NaN   \n",
       "1                Saison (21 juin - 5 septembre)                  NaN   \n",
       "2                Saison (21 juin - 5 septembre)                  NaN   \n",
       "3      Après-saison (6 septembre - 31 décembre)                LA167   \n",
       "4          Avant-saison (1er janvier - 20 juin)                  NaN   \n",
       "\n",
       "       identifiant                   geocodage_xy identifiant_cnm  \n",
       "0   FEST_07007_122   44.9397584607, 4.73413213329             NaN  \n",
       "1   FEST_08024_391    49.473325858, 4.12377173054             NaN  \n",
       "2   FEST_06018_831   43.6276558141, 7.08318612891             NaN  \n",
       "3   FEST_33063_918  44.8572445351, -0.57369678116          3101.0  \n",
       "4  FEST_01072_1385   46.1832170988, 5.32007207542             NaN  \n",
       "\n",
       "[5 rows x 30 columns]"
      ]
     },
     "execution_count": 42,
     "metadata": {},
     "output_type": "execute_result"
    }
   ],
   "source": [
    "df.head()"
   ]
  },
  {
   "cell_type": "code",
   "execution_count": 14,
   "metadata": {},
   "outputs": [
    {
     "name": "stdout",
     "output_type": "stream",
     "text": [
      "<class 'pandas.core.frame.DataFrame'>\n",
      "RangeIndex: 7283 entries, 0 to 7282\n",
      "Data columns (total 30 columns):\n",
      " #   Column                                               Non-Null Count  Dtype  \n",
      "---  ------                                               --------------  -----  \n",
      " 0   nom_du_festival                                      7283 non-null   object \n",
      " 1   envergure_territoriale                               1899 non-null   object \n",
      " 2   region_principale_de_deroulement                     7283 non-null   object \n",
      " 3   departement_principal_de_deroulement                 7257 non-null   object \n",
      " 4   commune_principale_de_deroulement                    7257 non-null   object \n",
      " 5   code_postal_de_la_commune_principale_de_deroulement  7266 non-null   object \n",
      " 6   code_insee_commune                                   7282 non-null   object \n",
      " 7   code_insee_epci_collage_en_valeur                    7247 non-null   object \n",
      " 8   libelle_epci_collage_en_valeur                       7247 non-null   object \n",
      " 9   numero_de_voie                                       2205 non-null   object \n",
      " 10  type_de_voie_rue_avenue_boulevard_etc                2872 non-null   object \n",
      " 11  nom_de_la_voie                                       3501 non-null   object \n",
      " 12  adresse_postale                                      3512 non-null   object \n",
      " 13  complement_d_adresse_facultatif                      2202 non-null   object \n",
      " 14  site_internet_du_festival                            6558 non-null   object \n",
      " 15  adresse_e_mail                                       5579 non-null   object \n",
      " 16  decennie_de_creation_du_festival                     6914 non-null   object \n",
      " 17  annee_de_creation_du_festival                        5835 non-null   object \n",
      " 18  discipline_dominante                                 7283 non-null   object \n",
      " 19  sous_categorie_spectacle_vivant                      1455 non-null   object \n",
      " 20  sous_categorie_musique                               2619 non-null   object \n",
      " 21  sous_categorie_musique_cnm                           958 non-null    object \n",
      " 22  sous_categorie_cinema_et_audiovisuel                 498 non-null    object \n",
      " 23  sous_categorie_arts_visuels_et_arts_numeriques       280 non-null    object \n",
      " 24  sous_categorie_livre_et_litterature                  413 non-null    object \n",
      " 25  periode_principale_de_deroulement_du_festival        7223 non-null   object \n",
      " 26  identifiant_agence_a                                 826 non-null    object \n",
      " 27  identifiant                                          7283 non-null   object \n",
      " 28  geocodage_xy                                         7250 non-null   object \n",
      " 29  identifiant_cnm                                      958 non-null    float64\n",
      "dtypes: float64(1), object(29)\n",
      "memory usage: 1.7+ MB\n"
     ]
    }
   ],
   "source": [
    "df.info()"
   ]
  },
  {
   "cell_type": "code",
   "execution_count": 43,
   "metadata": {},
   "outputs": [],
   "source": [
    "df.dropna(thresh=len(df.columns) - 20, inplace=True)  \n",
    "\n",
    "\n",
    "df.drop_duplicates(inplace=True)\n",
    "\n"
   ]
  },
  {
   "cell_type": "markdown",
   "metadata": {},
   "source": [
    "I'm looking at the values that are missing the most and I'm deleting the columns where we have the most missing values"
   ]
  },
  {
   "cell_type": "code",
   "execution_count": 44,
   "metadata": {},
   "outputs": [
    {
     "name": "stdout",
     "output_type": "stream",
     "text": [
      "nom_du_festival                                           0\n",
      "envergure_territoriale                                 5384\n",
      "region_principale_de_deroulement                          0\n",
      "departement_principal_de_deroulement                     24\n",
      "commune_principale_de_deroulement                        24\n",
      "code_postal_de_la_commune_principale_de_deroulement      15\n",
      "code_insee_commune                                        1\n",
      "code_insee_epci_collage_en_valeur                        34\n",
      "libelle_epci_collage_en_valeur                           34\n",
      "numero_de_voie                                         5076\n",
      "type_de_voie_rue_avenue_boulevard_etc                  4409\n",
      "nom_de_la_voie                                         3780\n",
      "adresse_postale                                        3769\n",
      "complement_d_adresse_facultatif                        5079\n",
      "site_internet_du_festival                               725\n",
      "adresse_e_mail                                         1702\n",
      "decennie_de_creation_du_festival                        367\n",
      "annee_de_creation_du_festival                          1446\n",
      "discipline_dominante                                      0\n",
      "sous_categorie_spectacle_vivant                        5826\n",
      "sous_categorie_musique                                 4662\n",
      "sous_categorie_musique_cnm                             6323\n",
      "sous_categorie_cinema_et_audiovisuel                   6785\n",
      "sous_categorie_arts_visuels_et_arts_numeriques         7001\n",
      "sous_categorie_livre_et_litterature                    6868\n",
      "periode_principale_de_deroulement_du_festival            60\n",
      "identifiant_agence_a                                   6455\n",
      "identifiant                                               0\n",
      "geocodage_xy                                             31\n",
      "identifiant_cnm                                        6323\n",
      "dtype: int64\n"
     ]
    }
   ],
   "source": [
    "print(df.isnull().sum())"
   ]
  },
  {
   "cell_type": "code",
   "execution_count": 45,
   "metadata": {},
   "outputs": [],
   "source": [
    "df = df.drop(columns=['code_insee_epci_collage_en_valeur', 'complement_d_adresse_facultatif', 'sous_categorie_musique_cnm','sous_categorie_cinema_et_audiovisuel','sous_categorie_arts_visuels_et_arts_numeriques','sous_categorie_livre_et_litterature','identifiant_agence_a','identifiant_cnm','sous_categorie_spectacle_vivant','numero_de_voie','envergure_territoriale','sous_categorie_musique'])"
   ]
  },
  {
   "cell_type": "code",
   "execution_count": 46,
   "metadata": {},
   "outputs": [
    {
     "name": "stdout",
     "output_type": "stream",
     "text": [
      "nom_du_festival                                           0\n",
      "region_principale_de_deroulement                          0\n",
      "departement_principal_de_deroulement                     24\n",
      "commune_principale_de_deroulement                        24\n",
      "code_postal_de_la_commune_principale_de_deroulement      15\n",
      "code_insee_commune                                        1\n",
      "libelle_epci_collage_en_valeur                           34\n",
      "type_de_voie_rue_avenue_boulevard_etc                  4409\n",
      "nom_de_la_voie                                         3780\n",
      "adresse_postale                                        3769\n",
      "site_internet_du_festival                               725\n",
      "adresse_e_mail                                         1702\n",
      "decennie_de_creation_du_festival                        367\n",
      "annee_de_creation_du_festival                          1446\n",
      "discipline_dominante                                      0\n",
      "periode_principale_de_deroulement_du_festival            60\n",
      "identifiant                                               0\n",
      "geocodage_xy                                             31\n",
      "dtype: int64\n"
     ]
    }
   ],
   "source": [
    "print(df.isnull().sum())"
   ]
  },
  {
   "cell_type": "code",
   "execution_count": 36,
   "metadata": {},
   "outputs": [
    {
     "name": "stdout",
     "output_type": "stream",
     "text": [
      "<class 'pandas.core.frame.DataFrame'>\n",
      "Index: 7281 entries, 0 to 7282\n",
      "Data columns (total 18 columns):\n",
      " #   Column                                               Non-Null Count  Dtype  \n",
      "---  ------                                               --------------  -----  \n",
      " 0   nom_du_festival                                      7281 non-null   object \n",
      " 1   region_principale_de_deroulement                     7281 non-null   object \n",
      " 2   departement_principal_de_deroulement                 7257 non-null   object \n",
      " 3   commune_principale_de_deroulement                    7257 non-null   object \n",
      " 4   code_postal_de_la_commune_principale_de_deroulement  7266 non-null   object \n",
      " 5   code_insee_commune                                   7280 non-null   object \n",
      " 6   libelle_epci_collage_en_valeur                       7247 non-null   object \n",
      " 7   type_de_voie_rue_avenue_boulevard_etc                2872 non-null   object \n",
      " 8   nom_de_la_voie                                       3501 non-null   object \n",
      " 9   adresse_postale                                      3512 non-null   object \n",
      " 10  site_internet_du_festival                            6556 non-null   object \n",
      " 11  adresse_e_mail                                       5579 non-null   object \n",
      " 12  decennie_de_creation_du_festival                     6914 non-null   object \n",
      " 13  annee_de_creation_du_festival                        5548 non-null   float64\n",
      " 14  discipline_dominante                                 7281 non-null   object \n",
      " 15  periode_principale_de_deroulement_du_festival        7221 non-null   object \n",
      " 16  identifiant                                          7281 non-null   object \n",
      " 17  geocodage_xy                                         7250 non-null   object \n",
      "dtypes: float64(1), object(17)\n",
      "memory usage: 1.1+ MB\n"
     ]
    }
   ],
   "source": [
    "df.info()"
   ]
  },
  {
   "cell_type": "code",
   "execution_count": 47,
   "metadata": {},
   "outputs": [
    {
     "data": {
      "image/png": "[encoded data removed]",
      "text/plain": [
       "<Figure size 640x480 with 1 Axes>"
      ]
     },
     "metadata": {},
     "output_type": "display_data"
    }
   ],
   "source": [
    "# Visualisation du nombre de festivals par région\n",
    "fig, ax = plt.subplots()\n",
    "df['region_principale_de_deroulement'].value_counts().plot(kind='bar', ax=ax)\n",
    "plt.title('Nombre de festivals par région')\n",
    "plt.xticks(rotation=90)\n",
    "plt.tight_layout()\n",
    "plt.show()\n"
   ]
  },
  {
   "cell_type": "code",
   "execution_count": 54,
   "metadata": {},
   "outputs": [
    {
     "data": {
      "application/vnd.plotly.v1+json": {
       "config": {
        "plotlyServerURL": "https://plot.ly"
       },
       "data": [
        {
         "alignmentgroup": "True",
         "hovertemplate": "Région=%{x}<br>Nombre de festivals=%{y}<extra></extra>",
         "legendgroup": "",
         "marker": {
          "color": "#636efa",
          "pattern": {
           "shape": ""
          }
         },
         "name": "",
         "offsetgroup": "",
         "orientation": "v",
         "showlegend": false,
         "textposition": "auto",
         "type": "bar",
         "x": [
          "Auvergne-Rhône-Alpes",
          "Provence-Alpes-Côte d'Azur",
          "Occitanie",
          "Nouvelle-Aquitaine",
          "Île-de-France",
          "Bretagne",
          "Grand Est",
          "Bourgogne-Franche-Comté",
          "Centre-Val de Loire",
          "Hauts-de-France",
          "Pays de la Loire",
          "Normandie",
          "Corse",
          "Guadeloupe",
          "La Réunion",
          "Guyane",
          "Martinique",
          "Mayotte",
          "Polynésie française",
          "Nouvelle-Calédonie",
          "Saint-Barthélemy",
          "Saint-Pierre-et-Miquelon"
         ],
         "xaxis": "x",
         "y": [
          947,
          940,
          903,
          828,
          654,
          590,
          469,
          442,
          357,
          338,
          332,
          267,
          69,
          44,
          41,
          19,
          15,
          9,
          7,
          5,
          3,
          2
         ],
         "yaxis": "y"
        }
       ],
       "layout": {
        "barmode": "relative",
        "legend": {
         "tracegroupgap": 0
        },
        "template": {
         "data": {
          "bar": [
           {
            "error_x": {
             "color": "#2a3f5f"
            },
            "error_y": {
             "color": "#2a3f5f"
            },
            "marker": {
             "line": {
              "color": "#E5ECF6",
              "width": 0.5
             },
             "pattern": {
              "fillmode": "overlay",
              "size": 10,
              "solidity": 0.2
             }
            },
            "type": "bar"
           }
          ],
          "barpolar": [
           {
            "marker": {
             "line": {
              "color": "#E5ECF6",
              "width": 0.5
             },
             "pattern": {
              "fillmode": "overlay",
              "size": 10,
              "solidity": 0.2
             }
            },
            "type": "barpolar"
           }
          ],
          "carpet": [
           {
            "aaxis": {
             "endlinecolor": "#2a3f5f",
             "gridcolor": "white",
             "linecolor": "white",
             "minorgridcolor": "white",
             "startlinecolor": "#2a3f5f"
            },
            "baxis": {
             "endlinecolor": "#2a3f5f",
             "gridcolor": "white",
             "linecolor": "white",
             "minorgridcolor": "white",
             "startlinecolor": "#2a3f5f"
            },
            "type": "carpet"
           }
          ],
          "choropleth": [
           {
            "colorbar": {
             "outlinewidth": 0,
             "ticks": ""
            },
            "type": "choropleth"
           }
          ],
          "contour": [
           {
            "colorbar": {
             "outlinewidth": 0,
             "ticks": ""
            },
            "colorscale": [
             [
              0,
              "#0d0887"
             ],
             [
              0.1111111111111111,
              "#46039f"
             ],
             [
              0.2222222222222222,
              "#7201a8"
             ],
             [
              0.3333333333333333,
              "#9c179e"
             ],
             [
              0.4444444444444444,
              "#bd3786"
             ],
             [
              0.5555555555555556,
              "#d8576b"
             ],
             [
              0.6666666666666666,
              "#ed7953"
             ],
             [
              0.7777777777777778,
              "#fb9f3a"
             ],
             [
              0.8888888888888888,
              "#fdca26"
             ],
             [
              1,
              "#f0f921"
             ]
            ],
            "type": "contour"
           }
          ],
          "contourcarpet": [
           {
            "colorbar": {
             "outlinewidth": 0,
             "ticks": ""
            },
            "type": "contourcarpet"
           }
          ],
          "heatmap": [
           {
            "colorbar": {
             "outlinewidth": 0,
             "ticks": ""
            },
            "colorscale": [
             [
              0,
              "#0d0887"
             ],
             [
              0.1111111111111111,
              "#46039f"
             ],
             [
              0.2222222222222222,
              "#7201a8"
             ],
             [
              0.3333333333333333,
              "#9c179e"
             ],
             [
              0.4444444444444444,
              "#bd3786"
             ],
             [
              0.5555555555555556,
              "#d8576b"
             ],
             [
              0.6666666666666666,
              "#ed7953"
             ],
             [
              0.7777777777777778,
              "#fb9f3a"
             ],
             [
              0.8888888888888888,
              "#fdca26"
             ],
             [
              1,
              "#f0f921"
             ]
            ],
            "type": "heatmap"
           }
          ],
          "heatmapgl": [
           {
            "colorbar": {
             "outlinewidth": 0,
             "ticks": ""
            },
            "colorscale": [
             [
              0,
              "#0d0887"
             ],
             [
              0.1111111111111111,
              "#46039f"
             ],
             [
              0.2222222222222222,
              "#7201a8"
             ],
             [
              0.3333333333333333,
              "#9c179e"
             ],
             [
              0.4444444444444444,
              "#bd3786"
             ],
             [
              0.5555555555555556,
              "#d8576b"
             ],
             [
              0.6666666666666666,
              "#ed7953"
             ],
             [
              0.7777777777777778,
              "#fb9f3a"
             ],
             [
              0.8888888888888888,
              "#fdca26"
             ],
             [
              1,
              "#f0f921"
             ]
            ],
            "type": "heatmapgl"
           }
          ],
          "histogram": [
           {
            "marker": {
             "pattern": {
              "fillmode": "overlay",
              "size": 10,
              "solidity": 0.2
             }
            },
            "type": "histogram"
           }
          ],
          "histogram2d": [
           {
            "colorbar": {
             "outlinewidth": 0,
             "ticks": ""
            },
            "colorscale": [
             [
              0,
              "#0d0887"
             ],
             [
              0.1111111111111111,
              "#46039f"
             ],
             [
              0.2222222222222222,
              "#7201a8"
             ],
             [
              0.3333333333333333,
              "#9c179e"
             ],
             [
              0.4444444444444444,
              "#bd3786"
             ],
             [
              0.5555555555555556,
              "#d8576b"
             ],
             [
              0.6666666666666666,
              "#ed7953"
             ],
             [
              0.7777777777777778,
              "#fb9f3a"
             ],
             [
              0.8888888888888888,
              "#fdca26"
             ],
             [
              1,
              "#f0f921"
             ]
            ],
            "type": "histogram2d"
           }
          ],
          "histogram2dcontour": [
           {
            "colorbar": {
             "outlinewidth": 0,
             "ticks": ""
            },
            "colorscale": [
             [
              0,
              "#0d0887"
             ],
             [
              0.1111111111111111,
              "#46039f"
             ],
             [
              0.2222222222222222,
              "#7201a8"
             ],
             [
              0.3333333333333333,
              "#9c179e"
             ],
             [
              0.4444444444444444,
              "#bd3786"
             ],
             [
              0.5555555555555556,
              "#d8576b"
             ],
             [
              0.6666666666666666,
              "#ed7953"
             ],
             [
              0.7777777777777778,
              "#fb9f3a"
             ],
             [
              0.8888888888888888,
              "#fdca26"
             ],
             [
              1,
              "#f0f921"
             ]
            ],
            "type": "histogram2dcontour"
           }
          ],
          "mesh3d": [
           {
            "colorbar": {
             "outlinewidth": 0,
             "ticks": ""
            },
            "type": "mesh3d"
           }
          ],
          "parcoords": [
           {
            "line": {
             "colorbar": {
              "outlinewidth": 0,
              "ticks": ""
             }
            },
            "type": "parcoords"
           }
          ],
          "pie": [
           {
            "automargin": true,
            "type": "pie"
           }
          ],
          "scatter": [
           {
            "fillpattern": {
             "fillmode": "overlay",
             "size": 10,
             "solidity": 0.2
            },
            "type": "scatter"
           }
          ],
          "scatter3d": [
           {
            "line": {
             "colorbar": {
              "outlinewidth": 0,
              "ticks": ""
             }
            },
            "marker": {
             "colorbar": {
              "outlinewidth": 0,
              "ticks": ""
             }
            },
            "type": "scatter3d"
           }
          ],
          "scattercarpet": [
           {
            "marker": {
             "colorbar": {
              "outlinewidth": 0,
              "ticks": ""
             }
            },
            "type": "scattercarpet"
           }
          ],
          "scattergeo": [
           {
            "marker": {
             "colorbar": {
              "outlinewidth": 0,
              "ticks": ""
             }
            },
            "type": "scattergeo"
           }
          ],
          "scattergl": [
           {
            "marker": {
             "colorbar": {
              "outlinewidth": 0,
              "ticks": ""
             }
            },
            "type": "scattergl"
           }
          ],
          "scattermapbox": [
           {
            "marker": {
             "colorbar": {
              "outlinewidth": 0,
              "ticks": ""
             }
            },
            "type": "scattermapbox"
           }
          ],
          "scatterpolar": [
           {
            "marker": {
             "colorbar": {
              "outlinewidth": 0,
              "ticks": ""
             }
            },
            "type": "scatterpolar"
           }
          ],
          "scatterpolargl": [
           {
            "marker": {
             "colorbar": {
              "outlinewidth": 0,
              "ticks": ""
             }
            },
            "type": "scatterpolargl"
           }
          ],
          "scatterternary": [
           {
            "marker": {
             "colorbar": {
              "outlinewidth": 0,
              "ticks": ""
             }
            },
            "type": "scatterternary"
           }
          ],
          "surface": [
           {
            "colorbar": {
             "outlinewidth": 0,
             "ticks": ""
            },
            "colorscale": [
             [
              0,
              "#0d0887"
             ],
             [
              0.1111111111111111,
              "#46039f"
             ],
             [
              0.2222222222222222,
              "#7201a8"
             ],
             [
              0.3333333333333333,
              "#9c179e"
             ],
             [
              0.4444444444444444,
              "#bd3786"
             ],
             [
              0.5555555555555556,
              "#d8576b"
             ],
             [
              0.6666666666666666,
              "#ed7953"
             ],
             [
              0.7777777777777778,
              "#fb9f3a"
             ],
             [
              0.8888888888888888,
              "#fdca26"
             ],
             [
              1,
              "#f0f921"
             ]
            ],
            "type": "surface"
           }
          ],
          "table": [
           {
            "cells": {
             "fill": {
              "color": "#EBF0F8"
             },
             "line": {
              "color": "white"
             }
            },
            "header": {
             "fill": {
              "color": "#C8D4E3"
             },
             "line": {
              "color": "white"
             }
            },
            "type": "table"
           }
          ]
         },
         "layout": {
          "annotationdefaults": {
           "arrowcolor": "#2a3f5f",
           "arrowhead": 0,
           "arrowwidth": 1
          },
          "autotypenumbers": "strict",
          "coloraxis": {
           "colorbar": {
            "outlinewidth": 0,
            "ticks": ""
           }
          },
          "colorscale": {
           "diverging": [
            [
             0,
             "#8e0152"
            ],
            [
             0.1,
             "#c51b7d"
            ],
            [
             0.2,
             "#de77ae"
            ],
            [
             0.3,
             "#f1b6da"
            ],
            [
             0.4,
             "#fde0ef"
            ],
            [
             0.5,
             "#f7f7f7"
            ],
            [
             0.6,
             "#e6f5d0"
            ],
            [
             0.7,
             "#b8e186"
            ],
            [
             0.8,
             "#7fbc41"
            ],
            [
             0.9,
             "#4d9221"
            ],
            [
             1,
             "#276419"
            ]
           ],
           "sequential": [
            [
             0,
             "#0d0887"
            ],
            [
             0.1111111111111111,
             "#46039f"
            ],
            [
             0.2222222222222222,
             "#7201a8"
            ],
            [
             0.3333333333333333,
             "#9c179e"
            ],
            [
             0.4444444444444444,
             "#bd3786"
            ],
            [
             0.5555555555555556,
             "#d8576b"
            ],
            [
             0.6666666666666666,
             "#ed7953"
            ],
            [
             0.7777777777777778,
             "#fb9f3a"
            ],
            [
             0.8888888888888888,
             "#fdca26"
            ],
            [
             1,
             "#f0f921"
            ]
           ],
           "sequentialminus": [
            [
             0,
             "#0d0887"
            ],
            [
             0.1111111111111111,
             "#46039f"
            ],
            [
             0.2222222222222222,
             "#7201a8"
            ],
            [
             0.3333333333333333,
             "#9c179e"
            ],
            [
             0.4444444444444444,
             "#bd3786"
            ],
            [
             0.5555555555555556,
             "#d8576b"
            ],
            [
             0.6666666666666666,
             "#ed7953"
            ],
            [
             0.7777777777777778,
             "#fb9f3a"
            ],
            [
             0.8888888888888888,
             "#fdca26"
            ],
            [
             1,
             "#f0f921"
            ]
           ]
          },
          "colorway": [
           "#636efa",
           "#EF553B",
           "#00cc96",
           "#ab63fa",
           "#FFA15A",
           "#19d3f3",
           "#FF6692",
           "#B6E880",
           "#FF97FF",
           "#FECB52"
          ],
          "font": {
           "color": "#2a3f5f"
          },
          "geo": {
           "bgcolor": "white",
           "lakecolor": "white",
           "landcolor": "#E5ECF6",
           "showlakes": true,
           "showland": true,
           "subunitcolor": "white"
          },
          "hoverlabel": {
           "align": "left"
          },
          "hovermode": "closest",
          "mapbox": {
           "style": "light"
          },
          "paper_bgcolor": "white",
          "plot_bgcolor": "#E5ECF6",
          "polar": {
           "angularaxis": {
            "gridcolor": "white",
            "linecolor": "white",
            "ticks": ""
           },
           "bgcolor": "#E5ECF6",
           "radialaxis": {
            "gridcolor": "white",
            "linecolor": "white",
            "ticks": ""
           }
          },
          "scene": {
           "xaxis": {
            "backgroundcolor": "#E5ECF6",
            "gridcolor": "white",
            "gridwidth": 2,
            "linecolor": "white",
            "showbackground": true,
            "ticks": "",
            "zerolinecolor": "white"
           },
           "yaxis": {
            "backgroundcolor": "#E5ECF6",
            "gridcolor": "white",
            "gridwidth": 2,
            "linecolor": "white",
            "showbackground": true,
            "ticks": "",
            "zerolinecolor": "white"
           },
           "zaxis": {
            "backgroundcolor": "#E5ECF6",
            "gridcolor": "white",
            "gridwidth": 2,
            "linecolor": "white",
            "showbackground": true,
            "ticks": "",
            "zerolinecolor": "white"
           }
          },
          "shapedefaults": {
           "line": {
            "color": "#2a3f5f"
           }
          },
          "ternary": {
           "aaxis": {
            "gridcolor": "white",
            "linecolor": "white",
            "ticks": ""
           },
           "baxis": {
            "gridcolor": "white",
            "linecolor": "white",
            "ticks": ""
           },
           "bgcolor": "#E5ECF6",
           "caxis": {
            "gridcolor": "white",
            "linecolor": "white",
            "ticks": ""
           }
          },
          "title": {
           "x": 0.05
          },
          "xaxis": {
           "automargin": true,
           "gridcolor": "white",
           "linecolor": "white",
           "ticks": "",
           "title": {
            "standoff": 15
           },
           "zerolinecolor": "white",
           "zerolinewidth": 2
          },
          "yaxis": {
           "automargin": true,
           "gridcolor": "white",
           "linecolor": "white",
           "ticks": "",
           "title": {
            "standoff": 15
           },
           "zerolinecolor": "white",
           "zerolinewidth": 2
          }
         }
        },
        "title": {
         "text": "Nombre de festivals par région"
        },
        "xaxis": {
         "anchor": "y",
         "domain": [
          0,
          1
         ],
         "title": {
          "text": "Région"
         }
        },
        "yaxis": {
         "anchor": "x",
         "domain": [
          0,
          1
         ],
         "title": {
          "text": "Nombre de festivals"
         }
        }
       }
      }
     },
     "metadata": {},
     "output_type": "display_data"
    }
   ],
   "source": [
    "df_region_count = df['region_principale_de_deroulement'].value_counts().reset_index()\n",
    "df_region_count.columns = ['region_principale_de_deroulement', 'count']  # Renommer les colonnes\n",
    "\n",
    "# Visualisation interactive du nombre de festivals par région\n",
    "fig = px.bar(df_region_count,\n",
    "             x='region_principale_de_deroulement', y='count',\n",
    "             labels={'region_principale_de_deroulement': 'Région', 'count': 'Nombre de festivals'},\n",
    "             title='Nombre de festivals par région')\n",
    "\n",
    "fig.show()\n"
   ]
  },
  {
   "cell_type": "code",
   "execution_count": 48,
   "metadata": {},
   "outputs": [
    {
     "data": {
      "image/png": "[encoded data removed]",
      "text/plain": [
       "<Figure size 640x480 with 1 Axes>"
      ]
     },
     "metadata": {},
     "output_type": "display_data"
    }
   ],
   "source": [
    "fig, ax = plt.subplots()\n",
    "df['discipline_dominante'].value_counts().plot(kind='pie', autopct='%1.1f%%', ax=ax)\n",
    "plt.title('Répartition des disciplines dominantes')\n",
    "plt.ylabel('')  # Pour retirer le label de l'axe Y dans un pie chart\n",
    "plt.tight_layout()\n",
    "plt.show()"
   ]
  },
  {
   "cell_type": "code",
   "execution_count": 49,
   "metadata": {},
   "outputs": [
    {
     "name": "stderr",
     "output_type": "stream",
     "text": [
      "/Applications/anaconda3/lib/python3.11/site-packages/seaborn/_oldcore.py:1119: FutureWarning: use_inf_as_na option is deprecated and will be removed in a future version. Convert inf values to NaN before operating instead.\n",
      "  with pd.option_context('mode.use_inf_as_na', True):\n"
     ]
    },
    {
     "data": {
      "image/png": "[encoded data removed]",
      "text/plain": [
       "<Figure size 640x480 with 1 Axes>"
      ]
     },
     "metadata": {},
     "output_type": "display_data"
    }
   ],
   "source": [
    "fig, ax = plt.subplots()\n",
    "sns.histplot(df['annee_de_creation_du_festival'].dropna(), bins=20, ax=ax)\n",
    "plt.title('Distribution des festivals selon l\\'année de création')\n",
    "plt.tight_layout()\n",
    "plt.show()"
   ]
  }
 ],
 "metadata": {
  "kernelspec": {
   "display_name": "linear_regression_env",
   "language": "python",
   "name": "python3"
  },
  "language_info": {
   "codemirror_mode": {
    "name": "ipython",
    "version": 3
   },
   "file_extension": ".py",
   "mimetype": "text/x-python",
   "name": "python",
   "nbconvert_exporter": "python",
   "pygments_lexer": "ipython3",
   "version": "3.11.7"
  }
 },
 "nbformat": 4,
 "nbformat_minor": 2
}
